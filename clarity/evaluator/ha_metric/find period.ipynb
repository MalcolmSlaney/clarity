{
 "cells": [
  {
   "cell_type": "code",
   "execution_count": null,
   "metadata": {},
   "outputs": [],
   "source": [
    "import json\n",
    "\n",
    "import numpy as np\n",
    "import pandas as pd\n",
    "from scipy.signal import find_peaks"
   ]
  },
  {
   "cell_type": "code",
   "execution_count": null,
   "metadata": {},
   "outputs": [],
   "source": [
    "center_freq = np.loadtxt(\"../ha_metric/_center_freq_control.csv\")"
   ]
  },
  {
   "cell_type": "code",
   "execution_count": null,
   "metadata": {},
   "outputs": [],
   "source": [
    "output = {}\n",
    "for idx, cf in enumerate(center_freq):\n",
    "    cf = round(cf, 8)\n",
    "    values = np.loadtxt(f\"../ha_metric/coscf_{cf}.csv\")\n",
    "    peaks, _ = find_peaks(values, distance=150)\n",
    "    output[cf] = list(values[: peaks[0]])\n",
    "    print(f\"Center freq: {cf}, repeat index: {peaks[0]}\")"
   ]
  },
  {
   "cell_type": "code",
   "execution_count": null,
   "metadata": {},
   "outputs": [],
   "source": [
    "with open(\"coscf.json\", \"w\") as f:\n",
    "    json.dump(output, f, indent=4)"
   ]
  },
  {
   "cell_type": "code",
   "execution_count": null,
   "metadata": {},
   "outputs": [],
   "source": [
    "output = {}\n",
    "for idx, cf in enumerate(center_freq):\n",
    "    cf = round(cf, 8)\n",
    "    values = np.loadtxt(f\"../ha_metric/sincf_{cf}.csv\")\n",
    "    peaks, _ = find_peaks(values, distance=150)\n",
    "    output[cf] = list(values[: peaks[0]])\n",
    "    print(f\"Center freq: {cf}, repeat index: {peaks[0]}\")"
   ]
  },
  {
   "cell_type": "code",
   "execution_count": null,
   "metadata": {},
   "outputs": [],
   "source": [
    "with open(\"sincf.json\", \"w\") as f:\n",
    "    json.dump(output, f, indent=4)"
   ]
  },
  {
   "cell_type": "code",
   "execution_count": null,
   "metadata": {},
   "outputs": [],
   "source": []
  }
 ],
 "metadata": {
  "kernelspec": {
   "display_name": "Python 3",
   "language": "python",
   "name": "python3"
  },
  "language_info": {
   "codemirror_mode": {
    "name": "ipython",
    "version": 2
   },
   "file_extension": ".py",
   "mimetype": "text/x-python",
   "name": "python",
   "nbconvert_exporter": "python",
   "pygments_lexer": "ipython2",
   "version": "2.7.6"
  }
 },
 "nbformat": 4,
 "nbformat_minor": 0
}
